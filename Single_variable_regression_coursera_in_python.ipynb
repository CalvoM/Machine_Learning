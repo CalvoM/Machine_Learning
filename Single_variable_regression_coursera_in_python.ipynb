{
 "cells": [
  {
   "cell_type": "code",
   "execution_count": 190,
   "metadata": {},
   "outputs": [],
   "source": [
    "import numpy as np\n",
    "import pandas as pd\n",
    "import os\n",
    "import matplotlib.pyplot as plt"
   ]
  },
  {
   "cell_type": "code",
   "execution_count": 191,
   "metadata": {},
   "outputs": [],
   "source": [
    "fileRoute = './Files/ex1data1.txt'\n",
    "#Get the data from txt file for analysis\n",
    "city_details = np.genfromtxt(fileRoute,delimiter=\",\");"
   ]
  },
  {
   "cell_type": "code",
   "execution_count": 238,
   "metadata": {},
   "outputs": [],
   "source": [
    "#Obtaining the city population as the input feature\n",
    "x = city_details[:,0]\n",
    "#obtaining the profit in food truck \n",
    "y = city_details[:,1]\n",
    "y = np.array([y]).transpose()\n",
    "# Obtaining the weighted values for the features in vector form\n",
    "theta = np.zeros([city_details.shape[1],1])\n",
    "# theta = np.array([[1],[2]])\n",
    "#Adding the row of 1s to input feature as x0\n",
    "x = np.array([np.ones(x.size),x]).transpose()\n",
    "#adding the learning rate alpha\n",
    "alpha = 0.01\n",
    "#the iterations for the gradient descent\n",
    "num_of_iterations = 1000"
   ]
  },
  {
   "cell_type": "code",
   "execution_count": 239,
   "metadata": {},
   "outputs": [
    {
     "data": {
      "text/plain": [
       "<module 'utils' from 'C:\\\\Users\\\\ADMIN\\\\Documents\\\\Programming\\\\Jupyter\\\\utils.py'>"
      ]
     },
     "execution_count": 239,
     "metadata": {},
     "output_type": "execute_result"
    }
   ],
   "source": [
    "import utils\n",
    "#reimport the library when code edited\n",
    "import importlib\n",
    "importlib.reload(utils)"
   ]
  },
  {
   "cell_type": "code",
   "execution_count": 240,
   "metadata": {},
   "outputs": [
    {
     "data": {
      "text/plain": [
       "array([32.07273388])"
      ]
     },
     "execution_count": 240,
     "metadata": {},
     "output_type": "execute_result"
    }
   ],
   "source": [
    "utils.cost_function(x,y,theta)"
   ]
  },
  {
   "cell_type": "code",
   "execution_count": 241,
   "metadata": {},
   "outputs": [
    {
     "data": {
      "text/plain": [
       "array([[-3.25088222],\n",
       "       [ 1.12836314]])"
      ]
     },
     "execution_count": 241,
     "metadata": {},
     "output_type": "execute_result"
    }
   ],
   "source": [
    "theta = utils.gradient_descent(x,y,theta,num_of_iterations,alpha)\n",
    "predictions = np.array([[1,7]])\n",
    "predictions.dot(theta[0])\n",
    "theta[0]"
   ]
  },
  {
   "cell_type": "code",
   "execution_count": 242,
   "metadata": {},
   "outputs": [
    {
     "data": {
      "text/plain": [
       "[<matplotlib.lines.Line2D at 0x1ed58b9ce80>]"
      ]
     },
     "execution_count": 242,
     "metadata": {},
     "output_type": "execute_result"
    },
    {
     "data": {
      "image/png": "[encoded data removed]",
      "text/plain": [
       "<Figure size 432x288 with 1 Axes>"
      ]
     },
     "metadata": {},
     "output_type": "display_data"
    }
   ],
   "source": [
    "z = x[:,1]\n",
    "# plt.scatter(z,y)\n",
    "# plt.plot(z,utils.hypothesis_function(theta[0],x),'r')\n",
    "x_cost = np.array([range(1,num_of_iterations+1)]).transpose()\n",
    "plt.plot(x_cost,theta[1])"
   ]
  },
  {
   "cell_type": "code",
   "execution_count": null,
   "metadata": {},
   "outputs": [],
   "source": []
  }
 ],
 "metadata": {
  "kernelspec": {
   "display_name": "Python 3",
   "language": "python",
   "name": "python3"
  },
  "language_info": {
   "codemirror_mode": {
    "name": "ipython",
    "version": 3
   },
   "file_extension": ".py",
   "mimetype": "text/x-python",
   "name": "python",
   "nbconvert_exporter": "python",
   "pygments_lexer": "ipython3",
   "version": "3.6.5"
  }
 },
 "nbformat": 4,
 "nbformat_minor": 2
}
