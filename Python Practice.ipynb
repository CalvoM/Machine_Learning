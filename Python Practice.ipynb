{
 "cells": [
  {
   "cell_type": "markdown",
   "metadata": {},
   "source": [
    "# Python Practice Notebook\n",
    ">Practice, practice and more practice makes perfect\n",
    "Practice on random concepts and libraries that I find am not good at"
   ]
  },
  {
   "cell_type": "markdown",
   "metadata": {},
   "source": [
    "## 1.Decorators\n",
    "Practice on the concept of decorators in python"
   ]
  },
  {
   "cell_type": "code",
   "execution_count": 1,
   "metadata": {},
   "outputs": [],
   "source": [
    "# Working with decorators\n",
    "def pretty_divide(func):\n",
    "    def inner(*args,**kwargs):\n",
    "        print('Dividing prettily')\n",
    "        func(*args,**kwargs)\n",
    "    return inner"
   ]
  },
  {
   "cell_type": "code",
   "execution_count": 2,
   "metadata": {},
   "outputs": [],
   "source": [
    "@pretty_divide\n",
    "def msg(a,b):\n",
    "    print(\"Just saying Hello \",a,\" From \",b)"
   ]
  },
  {
   "cell_type": "code",
   "execution_count": 3,
   "metadata": {},
   "outputs": [
    {
     "name": "stdout",
     "output_type": "stream",
     "text": [
      "Dividing prettily\n",
      "Just saying Hello  Calvin  From  Mombas\n"
     ]
    }
   ],
   "source": [
    "msg(\"Calvin\",\"Mombas\")"
   ]
  },
  {
   "cell_type": "markdown",
   "metadata": {},
   "source": [
    "## 2. Datetime Library\n",
    "Acquainting myself with the datetime library, from its documentations "
   ]
  },
  {
   "cell_type": "markdown",
   "metadata": {},
   "source": [
    "### 2.1 Timedelta"
   ]
  },
  {
   "cell_type": "code",
   "execution_count": 19,
   "metadata": {},
   "outputs": [],
   "source": [
    "# Importing the datetime library\n",
    "import datetime as dt\n",
    "DAY_HOURS = 24\n",
    "DAY_SECONDS = 3600*DAY_HOURS\n",
    "DAY_MINUTES = 60*DAY_HOURS"
   ]
  },
  {
   "cell_type": "code",
   "execution_count": 20,
   "metadata": {},
   "outputs": [
    {
     "name": "stdout",
     "output_type": "stream",
     "text": [
      "The difference from now: Seconds 0, Days 0\n"
     ]
    }
   ],
   "source": [
    "# Setting getting current time difference from itself\n",
    "now = dt.timedelta()\n",
    "print(\"The difference from now: Seconds {}, Days {}\".format(now.seconds,now.days))"
   ]
  },
  {
   "cell_type": "code",
   "execution_count": 23,
   "metadata": {},
   "outputs": [
    {
     "name": "stdout",
     "output_type": "stream",
     "text": [
      "The difference from one hour ago to now is: in Seconds 3600, in Minutes 60.0, in Days -1\n",
      "The difference from now to one hour later is: Seconds 3600, Days 0\n"
     ]
    }
   ],
   "source": [
    "# Checking the representations in one hour ago and one hour later\n",
    "one_hour_ago = dt.timedelta(hours=-1)\n",
    "one_hour_later = dt.timedelta(hours=1)\n",
    "print(\"The difference from one hour ago to now is: in Seconds {}, in Minutes {}, in Days {}\".format(DAY_SECONDS - one_hour_ago.seconds,DAY_MINUTES - one_hour_ago.seconds/60,one_hour_ago.days))\n",
    "print(\"The difference from now to one hour later is: Seconds {}, Days {}\".format(one_hour_later.seconds,one_hour_later.days))"
   ]
  },
  {
   "cell_type": "code",
   "execution_count": 24,
   "metadata": {},
   "outputs": [
    {
     "name": "stdout",
     "output_type": "stream",
     "text": [
      "The difference between the two times: In days is 0, in minutes is 1320.0, in seconds is 79200\n"
     ]
    }
   ],
   "source": [
    "#Arithmetic operations\n",
    "# 1. checking the difference between one hour ago and one hour later :-)\n",
    "time_diff = one_hour_later - one_hour_ago\n",
    "print(\"The difference between the two times: In days is {}, in minutes is {}, in seconds is {}\".format(time_diff.days,DAY_MINUTES - time_diff.seconds/60,DAY_SECONDS - time_diff.seconds))"
   ]
  },
  {
   "cell_type": "code",
   "execution_count": null,
   "metadata": {},
   "outputs": [],
   "source": []
  }
 ],
 "metadata": {
  "kernelspec": {
   "display_name": "Python 3",
   "language": "python",
   "name": "python3"
  },
  "language_info": {
   "codemirror_mode": {
    "name": "ipython",
    "version": 3
   },
   "file_extension": ".py",
   "mimetype": "text/x-python",
   "name": "python",
   "nbconvert_exporter": "python",
   "pygments_lexer": "ipython3",
   "version": "3.7.1"
  }
 },
 "nbformat": 4,
 "nbformat_minor": 2
}
