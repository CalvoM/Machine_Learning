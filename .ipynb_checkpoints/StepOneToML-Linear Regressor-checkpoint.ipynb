{
 "cells": [
  {
   "cell_type": "code",
   "execution_count": 48,
   "metadata": {},
   "outputs": [],
   "source": [
    "import numpy as np\n",
    "from sklearn import preprocessing,linear_model\n",
    "import os,sys\n",
    "import matplotlib.pyplot as plt"
   ]
  },
  {
   "cell_type": "code",
   "execution_count": 3,
   "metadata": {},
   "outputs": [
    {
     "data": {
      "text/plain": [
       "(3, 4)"
      ]
     },
     "execution_count": 3,
     "metadata": {},
     "output_type": "execute_result"
    }
   ],
   "source": [
    "data = np.array([[3, -1.5, 2, -5.4],[0, 4, -0.3, 2.1],[1, 3.3, -1.9, -4.3]])\n",
    "data.shape"
   ]
  },
  {
   "cell_type": "code",
   "execution_count": 15,
   "metadata": {},
   "outputs": [
    {
     "name": "stdout",
     "output_type": "stream",
     "text": [
      "[[ 1.33630621 -1.40451644  1.29110641 -0.86687558]\n",
      " [-1.06904497  0.84543708 -0.14577008  1.40111286]\n",
      " [-0.26726124  0.55907936 -1.14533633 -0.53423728]]\n",
      "Mean is [ 5.55111512e-17 -1.11022302e-16 -7.40148683e-17 -7.40148683e-17] while std_dev is [1. 1. 1. 1.]\n",
      "Without scaled ranged \n",
      " [[ 1.33630621 -1.40451644  1.29110641 -0.86687558]\n",
      " [-1.06904497  0.84543708 -0.14577008  1.40111286]\n",
      " [-0.26726124  0.55907936 -1.14533633 -0.53423728]] \n",
      " With scaled range \n",
      " [[1.         0.         1.         0.        ]\n",
      " [0.         1.         0.41025641 1.        ]\n",
      " [0.33333333 0.87272727 0.         0.14666667]]\n"
     ]
    }
   ],
   "source": [
    "#standardised data\n",
    "data_standard = preprocessing.scale(data)\n",
    "print(data_standard)\n",
    "#finding mean and std dev to prove data is standardised\n",
    "average = data_standard.mean(axis=0)\n",
    "std_dev = data_standard.std(axis=0)\n",
    "print(\"Mean is {} while std_dev is {}\".format(average,std_dev))\n",
    "#scaled data\n",
    "scaler = preprocessing.MinMaxScaler(feature_range=(0,1))\n",
    "scaled = scaler.fit_transform(data)\n",
    "print(\"Without scaled ranged \\n {} \\n With scaled range \\n {}\".format(data_standard,scaled))"
   ]
  },
  {
   "cell_type": "code",
   "execution_count": 71,
   "metadata": {},
   "outputs": [
    {
     "name": "stdout",
     "output_type": "stream",
     "text": [
      "[[0. 0. 1. 0. 1. 0. 0. 0. 1. 1. 0.]]\n"
     ]
    }
   ],
   "source": [
    "#Hot encoding where I need to do alot alot alot of work to understand\n",
    "hot_encoder = preprocessing.OneHotEncoder()\n",
    "hot_encoder.fit_transform([[0, 2, 1, 12], [1, 3, 5, 3], [2, 3, 2, 12], [1, 2, 4, 3]]) \n",
    "encoded_vector = hot_encoder.transform([[2,3,5,3]]).toarray()\n",
    "print(\"{}\".format(encoded_vector))"
   ]
  },
  {
   "cell_type": "code",
   "execution_count": 24,
   "metadata": {},
   "outputs": [
    {
     "name": "stdout",
     "output_type": "stream",
     "text": [
      "0 => Audi\n",
      "1 => Buggati\n",
      "2 => Ferrari\n",
      "3 => Koenisegg\n",
      "4 => Mobius\n",
      "5 => Nissan\n",
      "6 => Tesla\n",
      "7 => Toyota\n"
     ]
    }
   ],
   "source": [
    "#Label encoding rather easy to understand\n",
    "label_encoder = preprocessing.LabelEncoder()\n",
    "input_classes = ['Toyota','Audi','Ferrari','Mobius',\"Audi\",\"Nissan\",\"Koenisegg\",\"Buggati\",\"Mobius\",\"Tesla\"]\n",
    "label_encoder.fit(input_classes)\n",
    "for items,i in enumerate(label_encoder.classes_):\n",
    "    print(\"{} => {}\".format(items,i))\n"
   ]
  },
  {
   "cell_type": "code",
   "execution_count": 25,
   "metadata": {},
   "outputs": [
    {
     "data": {
      "text/plain": [
       "array([1, 3, 7, 0], dtype=int64)"
      ]
     },
     "execution_count": 25,
     "metadata": {},
     "output_type": "execute_result"
    }
   ],
   "source": [
    "test_data = [\"Buggati\",\"Koenisegg\",\"Toyota\",\"Audi\"]\n",
    "label_encoder.transform(test_data)"
   ]
  },
  {
   "cell_type": "code",
   "execution_count": 26,
   "metadata": {},
   "outputs": [
    {
     "data": {
      "text/plain": [
       "array(['Toyota', 'Toyota', 'Audi', 'Buggati', 'Ferrari', 'Nissan',\n",
       "       'Koenisegg'], dtype='<U9')"
      ]
     },
     "execution_count": 26,
     "metadata": {},
     "output_type": "execute_result"
    }
   ],
   "source": [
    "label_encoder.inverse_transform([7,7,0,1,2,5,3])"
   ]
  },
  {
   "cell_type": "code",
   "execution_count": 42,
   "metadata": {},
   "outputs": [
    {
     "data": {
      "text/plain": [
       "['bike_day.csv',\n",
       " 'bike_hour.csv',\n",
       " 'bike_sharing.py',\n",
       " 'data_multivar.txt',\n",
       " 'data_singlevar.txt',\n",
       " 'housing.py',\n",
       " 'label_encoder.py',\n",
       " 'linear_regression_singlevar.py',\n",
       " 'preprocessing.py',\n",
       " 'regression_multivar.py']"
      ]
     },
     "execution_count": 42,
     "metadata": {},
     "output_type": "execute_result"
    }
   ],
   "source": [
    "home = \"C:/Users/ADMIN/Documents/Programming/Jupyter\"\n",
    "File_route = home+'/Files/'\n",
    "dir_items = os.listdir(File_route)\n",
    "cook_book = dir_items[2]\n",
    "chapters = os.listdir(File_route+cook_book)\n",
    "chapter1 = chapters[2]\n",
    "file_path = File_route+cook_book+\"/\"+chapter1+\"/\"\n",
    "chapters2 = os.listdir(file_path)\n",
    "chapters2"
   ]
  },
  {
   "cell_type": "code",
   "execution_count": 43,
   "metadata": {
    "scrolled": true
   },
   "outputs": [],
   "source": [
    "\n",
    "filename = file_path+chapters2[4]\n",
    "x = []\n",
    "y = []\n",
    "with open(filename) as fileOpen:\n",
    "    for line in fileOpen:\n",
    "        xt,yt = [float(i) for i in line.split(',')]\n",
    "        x.append(xt)\n",
    "        y.append(yt)"
   ]
  },
  {
   "cell_type": "code",
   "execution_count": 63,
   "metadata": {},
   "outputs": [
    {
     "data": {
      "text/plain": [
       "LinearRegression(copy_X=True, fit_intercept=True, n_jobs=1, normalize=False)"
      ]
     },
     "execution_count": 63,
     "metadata": {},
     "output_type": "execute_result"
    }
   ],
   "source": [
    "num_training = int(0.9 * len(x))\n",
    "num_test = len(x) - num_training\n",
    "#Training data\n",
    "x_train = np.array(x[:num_training]).reshape(num_training,1)\n",
    "y_train = np.array(y[:num_training])\n",
    "\n",
    "#Test data\n",
    "x_test = np.array(x[num_training:]).reshape(num_test,1)\n",
    "y_test = np.array(x[num_training:])\n",
    "\n",
    "linear_regressor = linear_model.LinearRegression()\n",
    "linear_regressor.fit(x_train,y_train)"
   ]
  },
  {
   "cell_type": "code",
   "execution_count": 64,
   "metadata": {
    "scrolled": false
   },
   "outputs": [
    {
     "data": {
      "image/png": "[encoded data removed]",
      "text/plain": [
       "<Figure size 432x288 with 1 Axes>"
      ]
     },
     "metadata": {},
     "output_type": "display_data"
    }
   ],
   "source": [
    "y_train_pred = linear_regressor.predict(x_train)\n",
    "plt.figure()\n",
    "plt.scatter(x_train,y_train,color=\"green\")\n",
    "plt.plot(x_train,y_train_pred)\n",
    "plt.show()"
   ]
  },
  {
   "cell_type": "code",
   "execution_count": 65,
   "metadata": {},
   "outputs": [
    {
     "data": {
      "image/png": "[encoded data removed]",
      "text/plain": [
       "<Figure size 432x288 with 1 Axes>"
      ]
     },
     "metadata": {},
     "output_type": "display_data"
    }
   ],
   "source": [
    "y_test_pred = linear_regressor.predict(x_test)\n",
    "plt.scatter(x_test,y_test,color=\"green\")\n",
    "plt.plot(x_test,y_test_pred)\n",
    "plt.show()"
   ]
  }
 ],
 "metadata": {
  "kernelspec": {
   "display_name": "Python 3",
   "language": "python",
   "name": "python3"
  },
  "language_info": {
   "codemirror_mode": {
    "name": "ipython",
    "version": 3
   },
   "file_extension": ".py",
   "mimetype": "text/x-python",
   "name": "python",
   "nbconvert_exporter": "python",
   "pygments_lexer": "ipython3",
   "version": "3.6.5"
  }
 },
 "nbformat": 4,
 "nbformat_minor": 2
}
