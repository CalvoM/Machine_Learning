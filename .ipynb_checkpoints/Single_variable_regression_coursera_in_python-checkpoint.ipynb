{
 "cells": [
  {
   "cell_type": "code",
   "execution_count": 2,
   "metadata": {},
   "outputs": [],
   "source": [
    "import numpy as np\n",
    "import pandas as pd\n",
    "import os"
   ]
  },
  {
   "cell_type": "code",
   "execution_count": 7,
   "metadata": {},
   "outputs": [],
   "source": [
    "fileRoute = './Files/ex1data1.txt'\n",
    "#Get the data from txt file for analysis\n",
    "city_details = np.genfromtxt(fileRoute,delimiter=\",\");"
   ]
  },
  {
   "cell_type": "code",
   "execution_count": 20,
   "metadata": {},
   "outputs": [
    {
     "data": {
      "text/plain": [
       "array([888.5006])"
      ]
     },
     "execution_count": 20,
     "metadata": {},
     "output_type": "execute_result"
    }
   ],
   "source": [
    "#Obtaining the city population as the input feature\n",
    "x = city_details[:,0]\n",
    "#obtaining the profit in food truck \n",
    "y = city_details[:,1]\n",
    "# Obtaining the weighted values for the features in vector form\n",
    "# theta = np.ones([city_details.shape[1],1])\n",
    "theta = np.array([[1],[2]])\n",
    "#Adding the row of 1s to input feature as x0\n",
    "x = np.array([np.ones(x.size),x]).transpose()\n",
    "sum(x.dot(theta))"
   ]
  },
  {
   "cell_type": "code",
   "execution_count": 28,
   "metadata": {},
   "outputs": [],
   "source": [
    "import utils"
   ]
  },
  {
   "cell_type": "code",
   "execution_count": 29,
   "metadata": {},
   "outputs": [
    {
     "data": {
      "text/plain": [
       "array([ 42.96180181,   7.41124147,  17.54570581,  11.04016021,\n",
       "        10.14041952,  11.12688661,  18.98606952,  11.44417141,\n",
       "        10.69042   ,  21.68569651,  24.86067227,  27.54158491,\n",
       "        25.43901444,   9.28098139,  43.05816274,  23.3545432 ,\n",
       "        14.84131589,  44.38246186,  22.57983539,  14.51913852,\n",
       "        25.53822811,  86.88154931,  19.40012851,  15.30038704,\n",
       "        25.87759104,  98.24174101,  16.83381211,   9.6433992 ,\n",
       "        22.71342181, 119.71888531,  61.28092741,  12.41372051,\n",
       "        11.83373621,  34.13104644,  10.83567131,  17.97930652,\n",
       "        20.12874517,  24.03994789,   7.86891931,  14.11739027,\n",
       "        44.41858661,  21.18312984,  14.53385107,  29.98462771,\n",
       "        10.35839539,  40.32524452,  15.515544  ,  34.17126821,\n",
       "         8.07839352,  40.5560712 ,  10.31340757,  34.20346741,\n",
       "        19.27558524,  16.07067684,  37.33751952,  63.3885258 ,\n",
       "        29.75006821,  17.78754907,  20.91728677,  14.42593764,\n",
       "        15.37244947,  56.44144775,  45.86023771,  11.59900021,\n",
       "        38.57000021,  16.54690597,  13.24396507,   8.36908507,\n",
       "        40.56095652,  77.41128181,  10.4857554 ,  20.589268  ,\n",
       "        38.46903637,  24.33943824,  77.50952352,  46.68736515,\n",
       "        21.32519844,  13.39106867,  10.30810931,  32.63142581,\n",
       "        45.08434703,  47.51209952,  43.3760953 ,   8.71701624,\n",
       "        14.69249461,  19.50564084,  10.19961684,  41.30071295,\n",
       "        47.98103381,  27.49846067,  34.16322144,  19.239565  ,\n",
       "         9.3255322 ,  33.1360506 ,  48.04825982,   7.41628444,\n",
       "        43.90009217])"
      ]
     },
     "execution_count": 29,
     "metadata": {},
     "output_type": "execute_result"
    }
   ],
   "source": [
    "cost_value = utils.cost_function(x,y,theta)\n",
    "cost_value"
   ]
  }
 ],
 "metadata": {
  "kernelspec": {
   "display_name": "Python 3",
   "language": "python",
   "name": "python3"
  },
  "language_info": {
   "codemirror_mode": {
    "name": "ipython",
    "version": 3
   },
   "file_extension": ".py",
   "mimetype": "text/x-python",
   "name": "python",
   "nbconvert_exporter": "python",
   "pygments_lexer": "ipython3",
   "version": "3.6.5"
  }
 },
 "nbformat": 4,
 "nbformat_minor": 2
}
