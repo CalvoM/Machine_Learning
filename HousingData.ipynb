{
 "cells": [
  {
   "cell_type": "code",
   "execution_count": 1,
   "metadata": {},
   "outputs": [],
   "source": [
    "import numpy as np\n",
    "from sklearn.tree import DecisionTreeRegressor\n",
    "from sklearn.ensemble import AdaBoostRegressor\n",
    "from sklearn import datasets\n",
    "from sklearn.metrics import mean_squared_error,explained_variance_score\n",
    "from sklearn.utils import shuffle\n",
    "import matplotlib.pyplot as plt\n",
    "import pandas as pd"
   ]
  },
  {
   "cell_type": "code",
   "execution_count": 3,
   "metadata": {},
   "outputs": [
    {
     "name": "stdout",
     "output_type": "stream",
     "text": [
      "X => 6578\n",
      "Y => 506\n",
      "DT:The mean squared error of ds is 22.48 and the explained variance is 0.73\n",
      "AB:The mean squared error of ds is 7.64 and the explained variance is 0.91\n"
     ]
    }
   ],
   "source": [
    "housing_data = datasets.load_boston()\n",
    "x,y = shuffle(housing_data.data,housing_data.target,random_state=7)\n",
    "print(\"X => {}\".format(x.size))\n",
    "print(\"Y => {}\".format(y.size))\n",
    "#training and testing data separation\n",
    "training_amount = int(0.8 * len(x))\n",
    "x_train , y_train  = x[:training_amount],y[:training_amount]\n",
    "x_test , y_test = x[training_amount:],y[training_amount:]\n",
    "#Now model\n",
    "dt_regressor = DecisionTreeRegressor(max_depth=4)\n",
    "dt_regressor.fit(x_train,y_train)\n",
    "#Using AdaBoost\n",
    "ab_regress = AdaBoostRegressor(DecisionTreeRegressor(max_depth=4),n_estimators=400,random_state=7)\n",
    "ab_regress.fit(x_train,y_train)\n",
    "#Predictions\n",
    "y_ab_pred = ab_regress.predict(x_test)\n",
    "y_dt_pred = dt_regressor.predict(x_test)\n",
    "#error calculation\n",
    "mse_dt = mean_squared_error(y_test,y_dt_pred)\n",
    "evar_dt = explained_variance_score(y_test,y_dt_pred)\n",
    "print(\"DT:The mean squared error of ds is {} and the explained variance is {}\".format(round(mse_dt,2),round(evar_dt,2)))\n",
    "\n",
    "mse_dt = mean_squared_error(y_test,y_ab_pred)\n",
    "evar_dt = explained_variance_score(y_test,y_ab_pred)\n",
    "print(\"AB:The mean squared error of ds is {} and the explained variance is {}\".format(round(mse_dt,2),round(evar_dt,2)))\n",
    "# plt.figure()\n",
    "# plt.scatter(x_train,y_train)\n",
    "# plt.plot(x_train,y_ab_pred)"
   ]
  },
  {
   "cell_type": "code",
   "execution_count": 4,
   "metadata": {},
   "outputs": [],
   "source": [
    "#Getting which properties contributed to the model learning\n",
    "def plot_feature_importance(feature_importance,title,feature_names):\n",
    "    print(feature_importance)\n",
    "    feature_importance = 100.0 * (feature_importance/sum(feature_importance))\n",
    "    index_sorted = np.flipud(np.argsort(feature_importance))\n",
    "    print(index_sorted)\n",
    "    pos = np.arange(max(index_sorted)+1) + 0.5\n",
    "    print(pos)\n",
    "    print(feature_importance[index_sorted].shape)\n",
    "    plt.figure()\n",
    "    plt.bar(pos,feature_importance[index_sorted])\n",
    "    plt.xticks(pos,feature_names[index_sorted])\n",
    "    plt.ylabel(\"RELATIVE IMPORTANCE\")\n",
    "    plt.title(title)\n",
    "    plt.show()"
   ]
  },
  {
   "cell_type": "code",
   "execution_count": 56,
   "metadata": {
    "scrolled": true
   },
   "outputs": [
    {
     "name": "stdout",
     "output_type": "stream",
     "text": [
      "[0.03856422 0.         0.         0.         0.02908806 0.60474418\n",
      " 0.00078264 0.10473383 0.         0.         0.02188159 0.\n",
      " 0.20020548]\n",
      "[ 5 12  7  0  4 10  6 11  9  8  3  2  1]\n",
      "[ 0.5  1.5  2.5  3.5  4.5  5.5  6.5  7.5  8.5  9.5 10.5 11.5 12.5]\n",
      "(13,)\n"
     ]
    },
    {
     "data": {
      "image/png": "[encoded data removed]",
      "text/plain": [
       "<Figure size 432x288 with 1 Axes>"
      ]
     },
     "metadata": {},
     "output_type": "display_data"
    },
    {
     "name": "stdout",
     "output_type": "stream",
     "text": [
      "[0.03460496 0.00260478 0.0081857  0.00061997 0.04709509 0.2941107\n",
      " 0.01169235 0.11697942 0.02167582 0.0479107  0.0524251  0.01856616\n",
      " 0.34352926]\n",
      "[12  5  7 10  9  4  0  8 11  6  2  1  3]\n",
      "[ 0.5  1.5  2.5  3.5  4.5  5.5  6.5  7.5  8.5  9.5 10.5 11.5 12.5]\n",
      "(13,)\n"
     ]
    },
    {
     "data": {
      "image/png": "[encoded data removed]",
      "text/plain": [
       "<Figure size 432x288 with 1 Axes>"
      ]
     },
     "metadata": {},
     "output_type": "display_data"
    }
   ],
   "source": [
    "plot_feature_importance(dt_regressor.feature_importances_,\"DECISION TREE\",housing_data.feature_names)\n",
    "plot_feature_importance(ab_regress.feature_importances_,\"ADABOOST PERFORMANCE\",housing_data.feature_names)"
   ]
  }
 ],
 "metadata": {
  "kernelspec": {
   "display_name": "Python 3",
   "language": "python",
   "name": "python3"
  },
  "language_info": {
   "codemirror_mode": {
    "name": "ipython",
    "version": 3
   },
   "file_extension": ".py",
   "mimetype": "text/x-python",
   "name": "python",
   "nbconvert_exporter": "python",
   "pygments_lexer": "ipython3",
   "version": "3.6.5"
  }
 },
 "nbformat": 4,
 "nbformat_minor": 2
}
